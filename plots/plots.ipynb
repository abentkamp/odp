{
 "cells": [
  {
   "cell_type": "markdown",
   "id": "b63480cb-2b36-4d1c-b7f3-7fe5ae3c340f",
   "metadata": {},
   "source": [
    "Copyright (c) 2022 Valentin Hartmann. All rights reserved.  \n",
    "Released under Apache 2.0 license as described in the file LICENSE."
   ]
  },
  {
   "cell_type": "code",
   "execution_count": 1,
   "id": "d4233d5e-b1bd-4e01-8e2b-8a350333fc66",
   "metadata": {},
   "outputs": [],
   "source": [
    "import math\n",
    "import scipy.integrate as integrate\n",
    "import scipy.stats as stats\n",
    "import numpy as np\n",
    "import matplotlib.pyplot as plt\n",
    "\n",
    "plt.rcParams.update({'font.size': 14})"
   ]
  },
  {
   "cell_type": "markdown",
   "id": "4f6798da-b27b-419e-8ef2-f53e31ed8593",
   "metadata": {},
   "source": [
    "# SVT"
   ]
  },
  {
   "cell_type": "markdown",
   "id": "31a34514-4685-4ec2-9472-95031bf5d415",
   "metadata": {},
   "source": [
    "Our goal in this section is to demonstrate the advantage of using ODP analysis over standard DP analysis for releasing a sparse vector via SVT. We consider a 100-dimensional vector and want to release the indices and values of those entries whose absolute value lies above the threshold $T=500$. For more details see Sec. 4.1 of the paper."
   ]
  },
  {
   "cell_type": "markdown",
   "id": "0bc065b0-7b4c-4847-91e0-4368b820a88a",
   "metadata": {},
   "source": [
    "We start by defining some constants."
   ]
  },
  {
   "cell_type": "code",
   "execution_count": 2,
   "id": "d4c84c80-fdd7-4035-b18d-78ea94e7be5d",
   "metadata": {},
   "outputs": [],
   "source": [
    "Delta = 1\n",
    "c = 20\n",
    "eps_1_plus_eps_2 = 0.5\n",
    "eps_3 = 0.5"
   ]
  },
  {
   "cell_type": "markdown",
   "id": "f26bc6fb-09c2-40d7-aa9a-cbc45b59569d",
   "metadata": {},
   "source": [
    "For computing the optimal $\\varepsilon_1,\\varepsilon_2$ for a total budget of $\\alpha = \\varepsilon_1 + \\varepsilon_2$ we solve the system of equations\n",
    "$$\n",
    "\\begin{align}\n",
    "\\varepsilon_1+\\varepsilon_2 &= \\alpha\\\\\n",
    "\\frac{\\varepsilon_1}{\\varepsilon_2} &= \\frac{1}{(2c)^{2/3}}.\n",
    "\\end{align}\n",
    "$$\n",
    "We get\n",
    "$$\n",
    "\\begin{align}\n",
    "\\varepsilon_1 &= \\frac{1}{1+\\frac{1}{(2c)^{2/3}}} \\frac{1}{(2c)^{2/3}} \\alpha\\\\\n",
    "\\varepsilon_2 &= \\alpha - \\varepsilon_1.\n",
    "\\end{align}\n",
    "$$"
   ]
  },
  {
   "cell_type": "code",
   "execution_count": 3,
   "id": "e43fd098-c97e-4688-a7c9-55c65571dc98",
   "metadata": {},
   "outputs": [],
   "source": [
    "def split_budget_eps_1_2(budget, c):\n",
    "    eps_1 = (1/(1+(1/math.pow(2*c, 2/3)))) * (1/math.pow(2*c,2/3)) * budget\n",
    "    eps_2 = budget - eps_1\n",
    "    return eps_1, eps_2"
   ]
  },
  {
   "cell_type": "markdown",
   "id": "708d8ce2-1cd5-40df-ad78-8fdfe6f18981",
   "metadata": {},
   "source": [
    "Setting $\\alpha=0.5$ and $c=20$ yields:"
   ]
  },
  {
   "cell_type": "code",
   "execution_count": 4,
   "id": "f8146284-dee2-4a8c-b69b-51667a8c823f",
   "metadata": {},
   "outputs": [
    {
     "name": "stdout",
     "output_type": "stream",
     "text": [
      "epsilon_1 = 0.039382262580038824, epsilon_2 = 0.46061773741996115\n"
     ]
    }
   ],
   "source": [
    "eps_1, eps_2 = split_budget_eps_1_2(eps_1_plus_eps_2, c)\n",
    "print(f'epsilon_1 = {eps_1}, epsilon_2 = {eps_2}')"
   ]
  },
  {
   "cell_type": "markdown",
   "id": "ae6470a8-8bf6-4cca-8664-5c5916b6a44a",
   "metadata": {},
   "source": [
    "For computing the expected noise added with an ODP analysis we need to compute the expected number of released vector entries. For this we need the probability $\\mathbb{P}(\\nu_i - \\rho \\geq T_i - q_i(\\mathbf{x}))$ that a given entry is released.\n",
    "We have $\\rho \\sim \\text{Lap}(\\Delta/\\varepsilon_1)$ and $\\nu_i \\sim \\text{Lap}(2c\\Delta/\\varepsilon_2)$. Since the distribution of $\\rho$ is symmetric around 0, $\\nu_i - \\rho$ follows the same distribution as $\\nu_i + \\rho$. Letting $b_1 = \\Delta/\\varepsilon_1$ and $b_2 = 2c\\Delta/\\varepsilon_2$, we need to integrate over the convolution of the two Laplace distributions:\n",
    "$$\n",
    "\\mathbb{P}(\\nu_i - \\rho \\geq T_i - q_i(\\mathbf{x})) = \\int_{T_i - q_i(\\mathbf{x})}^{\\infty} \\int_{-\\infty}^{\\infty} \\frac{1}{2b_1} \\exp\\left(-\\frac{|\\rho|}{b_1}\\right) \\frac{1}{2b_2} \\exp\\left(-\\frac{|\\nu - \\rho|}{b_2}\\right) d\\rho d\\nu.\n",
    "$$"
   ]
  },
  {
   "cell_type": "markdown",
   "id": "19af4313-ca96-47f6-8261-6bfb802d81b8",
   "metadata": {},
   "source": [
    "We compute $b_1$ and $b_2$:"
   ]
  },
  {
   "cell_type": "code",
   "execution_count": 5,
   "id": "fb7ee668-00f4-4a9a-8a6f-2da0a7f19c18",
   "metadata": {},
   "outputs": [],
   "source": [
    "def compute_b_1(Delta, eps_1):\n",
    "    return Delta / eps_1"
   ]
  },
  {
   "cell_type": "code",
   "execution_count": 6,
   "id": "09bcec36-ca71-464c-b0e1-64517d318275",
   "metadata": {},
   "outputs": [],
   "source": [
    "def compute_b_2(c, Delta, eps_2):\n",
    "    return 2*c*Delta / eps_2"
   ]
  },
  {
   "cell_type": "code",
   "execution_count": 7,
   "id": "070a6858-4fd2-4ac0-a815-adf12554b1a9",
   "metadata": {},
   "outputs": [
    {
     "name": "stdout",
     "output_type": "stream",
     "text": [
      "b_1 = 25.392141905702925, b_2 = 86.8399037867068\n"
     ]
    }
   ],
   "source": [
    "b_1 = compute_b_1(Delta, eps_1)\n",
    "b_2 = compute_b_2(c, Delta, eps_2)\n",
    "print(f'b_1 = {b_1}, b_2 = {b_2}')"
   ]
  },
  {
   "cell_type": "markdown",
   "id": "490325d1-506b-486c-ba1f-77446381e38b",
   "metadata": {},
   "source": [
    "Now we can (numerically) compute the above integral. We consider $T_i=500$ and for the values of $q_i(\\mathbf{x})$ only the cases 0 and 1000. Let\n",
    "$$\n",
    "p_0(1) = \\mathbb{P}(\\nu_i - \\rho \\geq 500),\\quad p_0(0) = 1 - p_0(1)\n",
    "$$\n",
    "and\n",
    "$$\n",
    "p_{1000}(1) = \\mathbb{P}(\\nu_i - \\rho \\geq -500),\\quad p_{1000}(0) = 1 - p_{1000}(1)\n",
    "$$\n",
    "be the four probabilities that we are interested in.\n",
    "Due to the symmetry of the Laplace distribution we can further simplify $p_{1000}(1)$ as\n",
    "$$\n",
    "p_{1000}(1) = 1 - p_0(1).\n",
    "$$"
   ]
  },
  {
   "cell_type": "code",
   "execution_count": 8,
   "id": "ec17c41a-c8b2-43a2-a3ff-3c60dff3c470",
   "metadata": {},
   "outputs": [],
   "source": [
    "def integrand_all_args(b_1, b_2, rho, nu):\n",
    "    fraction = 1 / (4*b_1*b_2)\n",
    "    power = (-abs(rho)/b_1) - (abs(nu-rho)/b_2)\n",
    "    return fraction * np.exp(power)"
   ]
  },
  {
   "cell_type": "code",
   "execution_count": 9,
   "id": "4580fe2d-b9fd-4090-917f-02fe4dd87ee2",
   "metadata": {},
   "outputs": [],
   "source": [
    "integrand = lambda rho, nu: integrand_all_args(b_1, b_2, rho, nu)"
   ]
  },
  {
   "cell_type": "code",
   "execution_count": 10,
   "id": "cb50d31b-03f4-463e-b7ec-d0f268d1a0c4",
   "metadata": {},
   "outputs": [
    {
     "name": "stdout",
     "output_type": "stream",
     "text": [
      "p_0(1) = 0.0017267930924315283, error = 1.484769393467497e-08\n"
     ]
    }
   ],
   "source": [
    "p_0_1, error_0_1 = integrate.dblquad(integrand, 500, np.inf, lambda nu: -np.inf, lambda nu: np.inf)\n",
    "print(f'p_0(1) = {p_0_1}, error = {error_0_1}')"
   ]
  },
  {
   "cell_type": "code",
   "execution_count": 11,
   "id": "47ac19dd-a7da-40cc-9836-3da46fd64091",
   "metadata": {},
   "outputs": [],
   "source": [
    "p_1000_1 = 1 - p_0_1"
   ]
  },
  {
   "cell_type": "markdown",
   "id": "4d58bd92-bb4c-4948-98cd-00c42e6b7965",
   "metadata": {},
   "source": [
    "Let $n$ be the total number of queries (in our case 100), and let $n_0$, $n_{1000}$ be the numbers of queries with $q_i(\\mathbf{x}) = 0$ and $q_i(\\mathbf{x}) = 1000$, respectively. Let $X_0 \\sim \\text{Bin}(n_0,p_0(1))$, $X_{1000} \\sim \\text{Bin}(n_{1000},p_{1000}(1))$ be binomial distributions with $n_0$ trials and $n_{1000}$ trials, respectively and success probabilities $p_0(1)$ and $p_{1000}(1)$, respectively. Then the number of queries that pass the test is\n",
    "$$\n",
    "S = X_0 + X_{1000}.\n",
    "$$\n",
    "Even if $n_{1000}\\leq c$ as in our example, it can still happen that more than $n_{1000}$ queries pass the test in line 7 of the SVT algorithm due its randomness. But even with ODP we never release more than $c$ entries. Thus the expected number of released vector entries is\n",
    "$$\n",
    "\\mathbb{E}(\\min(S,c)) = \\sum_{m=0}^{c-1} [m \\mathbb{P}(S=m)] + \\sum_{m=c}^n [c \\mathbb{P}(S=m)].\n",
    "$$\n",
    "We can compute $\\mathbb{P}(S=m)$ via the following convolution:\n",
    "$$\n",
    "\\mathbb{P}(S=m) = \\sum_{k=0}^{n_0} \\mathbb{P}(X_0=k) \\mathbb{P}(X_{1000}=m-k).\n",
    "$$"
   ]
  },
  {
   "cell_type": "code",
   "execution_count": 12,
   "id": "e3cb94ae-bc75-47c7-a35a-737d7c319ef4",
   "metadata": {},
   "outputs": [],
   "source": [
    "def compute_prob_S_equals_m(n_0, n_1000, p_0_1, p_1000_1, m):\n",
    "    prob = 0\n",
    "    for k in range(n_0+1):\n",
    "        prob += stats.binom.pmf(k, n_0, p_0_1) * stats.binom.pmf(m-k, n_1000, p_1000_1)\n",
    "    return prob"
   ]
  },
  {
   "cell_type": "code",
   "execution_count": 13,
   "id": "3665aacd-82b6-4aa2-8c1d-a0167198eda2",
   "metadata": {},
   "outputs": [],
   "source": [
    "def compute_expectation_min_S_c(n_0, n_1000, p_0_1, p_1000_1, c):\n",
    "    n = n_0 + n_1000\n",
    "    expectation = 0\n",
    "    for m in range(c):\n",
    "        expectation += m * compute_prob_S_equals_m(n_0, n_1000, p_0_1, p_1000_1, m)\n",
    "    for m in range(c, n+1):\n",
    "        expectation += c * compute_prob_S_equals_m(n_0, n_1000, p_0_1, p_1000_1, m)\n",
    "    return expectation"
   ]
  },
  {
   "cell_type": "markdown",
   "id": "7668717b-b4ce-4ee2-a79f-bb66c12397ab",
   "metadata": {},
   "source": [
    "We are now able to compute the expectations for the different numbers of large entries that we want to consider."
   ]
  },
  {
   "cell_type": "code",
   "execution_count": 14,
   "id": "9c6b469b-fa9d-4a25-b3b8-6ade961c5376",
   "metadata": {},
   "outputs": [],
   "source": [
    "n = 100\n",
    "n_1000_s = range(20+1)"
   ]
  },
  {
   "cell_type": "code",
   "execution_count": 15,
   "id": "6aef2b4f-0ab9-4f8a-b98b-9286474daad5",
   "metadata": {},
   "outputs": [],
   "source": [
    "expected_nums_outputs_odp = [compute_expectation_min_S_c(n-n_1000, n_1000, p_0_1, p_1000_1, c) for n_1000 in n_1000_s]"
   ]
  },
  {
   "cell_type": "markdown",
   "id": "b2b5ba81-0efe-4eb9-8ce0-54c0f79c93ac",
   "metadata": {},
   "source": [
    "It remains to compute the privacy budget that is remaining for the release of the vector entries and from that the required noise per entry.\n",
    "\n",
    "In the non-ODP case we have a budget of\n",
    "$$\n",
    "\\frac{\\varepsilon_3}{c}\n",
    "$$ per entry.\n",
    "\n",
    "Let $c'$ be the number of released entries. Then in the ODP case we have a budget of\n",
    "$$\n",
    "\\frac{1}{c'}\\left(\\varepsilon_3 + \\frac{c-c'}{c}\\varepsilon_2\\right)\n",
    "$$\n",
    "per entry.\n",
    "\n",
    "For a given per-entry budget $\\varepsilon$, the standard deviation of the added Laplace noise is\n",
    "$$\n",
    "\\sqrt{2}\\frac{\\Delta}{\\varepsilon}.\n",
    "$$"
   ]
  },
  {
   "cell_type": "code",
   "execution_count": 16,
   "id": "d6439724-284f-4145-9981-1413f304639e",
   "metadata": {},
   "outputs": [],
   "source": [
    "def non_odp_eps_per_entry(eps_3, c):\n",
    "    return eps_3 / c"
   ]
  },
  {
   "cell_type": "code",
   "execution_count": 17,
   "id": "d5d315ed-9d69-4be1-a63f-ce8682c9b547",
   "metadata": {},
   "outputs": [],
   "source": [
    "def expected_odp_eps_per_entry(n, eps_2, eps_3, c, c_prime):\n",
    "    expected_eps = eps_3 + ((c-c_prime)/c)*eps_2\n",
    "    expected_eps /= c_prime\n",
    "    return expected_eps"
   ]
  },
  {
   "cell_type": "code",
   "execution_count": 18,
   "id": "d2371cd2-593c-4cf2-92d4-1d7db8c56a74",
   "metadata": {},
   "outputs": [],
   "source": [
    "def std_dev_laplace(Delta, eps):\n",
    "    return math.sqrt(2) * Delta / eps"
   ]
  },
  {
   "cell_type": "code",
   "execution_count": 19,
   "id": "b138a65c-3030-47ed-b9a6-9dcc93f3e4df",
   "metadata": {},
   "outputs": [],
   "source": [
    "non_odp_std_dev = std_dev_laplace(Delta, non_odp_eps_per_entry(eps_3, c))\n",
    "\n",
    "odp_eps_s = [expected_odp_eps_per_entry(n, eps_2, eps_3, c, c_prime) for c_prime in expected_nums_outputs_odp]\n",
    "odp_std_dev_s = [std_dev_laplace(Delta, eps) for eps in odp_eps_s]"
   ]
  },
  {
   "cell_type": "code",
   "execution_count": 20,
   "id": "4fc4b7a8-dd15-4b3d-a316-1fdb5dbbf475",
   "metadata": {},
   "outputs": [
    {
     "data": {
      "image/png": "[encoded data removed]",
      "text/plain": [
       "<Figure size 432x288 with 1 Axes>"
      ]
     },
     "metadata": {
      "needs_background": "light"
     },
     "output_type": "display_data"
    }
   ],
   "source": [
    "plt.plot(range(0,21), np.ones(21)*non_odp_std_dev, label='without ODP')\n",
    "plt.plot(range(0,21), odp_std_dev_s, label='with ODP')\n",
    "plt.xlabel('Number of large entries')\n",
    "plt.ylabel('Std deviation of added noise')\n",
    "plt.legend()\n",
    "plt.tight_layout()\n",
    "plt.savefig('svt.pdf')"
   ]
  },
  {
   "cell_type": "markdown",
   "id": "ac3a5156-c641-4397-a2b9-39a4389c7cb9",
   "metadata": {},
   "source": [
    "# ERM"
   ]
  },
  {
   "cell_type": "markdown",
   "id": "463e8e15-cc03-41b7-895f-778fb7996458",
   "metadata": {},
   "source": [
    "In this section we investigate the ODP variant of output perturbation for releasing a noisy logistic regression model, but only it its error lies below a given threshold. We compute the amount of noise that needs to be added to the error before the comparison with the threshold. For more details see Sec. 6.1 of the paper."
   ]
  },
  {
   "cell_type": "markdown",
   "id": "ba9ea920-83ae-4e18-bc2d-2f4755633975",
   "metadata": {},
   "source": [
    "We start by computing $a$ from line 2 of Alg. 5."
   ]
  },
  {
   "cell_type": "code",
   "execution_count": 21,
   "id": "a19a670b-1531-41e4-a258-0897d78bde37",
   "metadata": {},
   "outputs": [],
   "source": [
    "def compute_a(n_train, n_test, Lambda):\n",
    "    return max(2/n_test, 2*(np.exp(2/(n_train*Lambda)) - 1))"
   ]
  },
  {
   "cell_type": "markdown",
   "id": "1199131a-9208-4a36-b153-cc5a53d58d68",
   "metadata": {},
   "source": [
    "We want to plot the 95-th percentile of the noise added to the model error."
   ]
  },
  {
   "cell_type": "code",
   "execution_count": 22,
   "id": "6255e828-e985-45b5-ab0a-60fa7e9e6c16",
   "metadata": {},
   "outputs": [],
   "source": [
    "def score_noise_quantile(a, epsilon_2, F):\n",
    "    '''\n",
    "    Computes the F-quantile of the noise added to the model error.\n",
    "    F must be >= 1/2.\n",
    "    '''\n",
    "    \n",
    "    laplace_param = a/epsilon_2\n",
    "    return -laplace_param * np.log(2-2*F)"
   ]
  },
  {
   "cell_type": "markdown",
   "id": "a6aa7aa7-d606-42c6-a054-99311d4866c0",
   "metadata": {},
   "source": [
    "We define the different settings that we consider. In all settings 70% of the data is used for training and 30% is used for testing."
   ]
  },
  {
   "cell_type": "code",
   "execution_count": 23,
   "id": "188ad418-6143-4577-a9e2-426561120948",
   "metadata": {},
   "outputs": [],
   "source": [
    "epsilons_2_s = [0.1, 0.2, 0.5]\n",
    "dataset_sizes = range(1000, 5000)\n",
    "fraction_test = 0.3 # fraction of test records\n",
    "Lambda = 1\n",
    "quantile = 0.95"
   ]
  },
  {
   "cell_type": "code",
   "execution_count": 24,
   "id": "8467d162-7cfd-4467-b621-fb6db3b34551",
   "metadata": {},
   "outputs": [
    {
     "data": {
      "image/png": "[encoded data removed]",
      "text/plain": [
       "<Figure size 432x288 with 1 Axes>"
      ]
     },
     "metadata": {
      "needs_background": "light"
     },
     "output_type": "display_data"
    }
   ],
   "source": [
    "for epsilon_2 in epsilons_2_s:\n",
    "    percentiles = [score_noise_quantile(compute_a((1-fraction_test)*size, fraction_test*size, Lambda), epsilon_2, quantile)\n",
    "                   for size in dataset_sizes]\n",
    "    plt.plot(dataset_sizes, percentiles, label=f'$\\\\varepsilon_2={epsilon_2}$')\n",
    "\n",
    "plt.ylabel('95-th percentile of error noise')\n",
    "plt.xlabel('Total number of database records')\n",
    "plt.legend()\n",
    "plt.tight_layout()\n",
    "plt.savefig('erm.pdf')"
   ]
  }
 ],
 "metadata": {
  "kernelspec": {
   "display_name": "Python 3 (ipykernel)",
   "language": "python",
   "name": "python3"
  },
  "language_info": {
   "codemirror_mode": {
    "name": "ipython",
    "version": 3
   },
   "file_extension": ".py",
   "mimetype": "text/x-python",
   "name": "python",
   "nbconvert_exporter": "python",
   "pygments_lexer": "ipython3",
   "version": "3.9.7"
  }
 },
 "nbformat": 4,
 "nbformat_minor": 5
}
