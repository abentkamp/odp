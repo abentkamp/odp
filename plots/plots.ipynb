{
 "cells": [
  {
   "cell_type": "markdown",
   "id": "b63480cb-2b36-4d1c-b7f3-7fe5ae3c340f",
   "metadata": {},
   "source": [
    "Copyright (c) 2022 Valentin Hartmann. All rights reserved.  \n",
    "Released under Apache 2.0 license as described in the file LICENSE."
   ]
  },
  {
   "cell_type": "code",
   "execution_count": 1,
   "id": "d4233d5e-b1bd-4e01-8e2b-8a350333fc66",
   "metadata": {},
   "outputs": [],
   "source": [
    "import math\n",
    "import scipy.integrate as integrate\n",
    "import scipy.stats as stats\n",
    "import numpy as np\n",
    "import matplotlib.pyplot as plt\n",
    "import warnings\n",
    "\n",
    "plt.rcParams.update({'font.size': 14,\n",
    "                     'pdf.fonttype': 42}) # TrueType font as requested by PETS"
   ]
  },
  {
   "cell_type": "markdown",
   "id": "4f6798da-b27b-419e-8ef2-f53e31ed8593",
   "metadata": {},
   "source": [
    "# SVT"
   ]
  },
  {
   "cell_type": "markdown",
   "id": "31a34514-4685-4ec2-9472-95031bf5d415",
   "metadata": {},
   "source": [
    "Our goal in this section is to demonstrate the advantage of using ODP analysis over standard DP analysis for releasing a sparse vector via SVT. We consider a 100-dimensional vector and want to release the indices and values of those entries whose absolute value lies above the threshold $T=500$. For more details see Sec. 4.1 of the paper."
   ]
  },
  {
   "cell_type": "markdown",
   "id": "0bc065b0-7b4c-4847-91e0-4368b820a88a",
   "metadata": {},
   "source": [
    "We start by defining some constants."
   ]
  },
  {
   "cell_type": "code",
   "execution_count": 2,
   "id": "d4c84c80-fdd7-4035-b18d-78ea94e7be5d",
   "metadata": {},
   "outputs": [],
   "source": [
    "Delta = 1\n",
    "c = 20\n",
    "eps_1_plus_eps_2 = 0.5\n",
    "eps_3 = 0.5"
   ]
  },
  {
   "cell_type": "markdown",
   "id": "f26bc6fb-09c2-40d7-aa9a-cbc45b59569d",
   "metadata": {},
   "source": [
    "For computing the optimal $\\varepsilon_1,\\varepsilon_2$ for a total budget of $\\alpha = \\varepsilon_1 + \\varepsilon_2$ we solve the system of equations\n",
    "$$\n",
    "\\begin{align}\n",
    "\\varepsilon_1+\\varepsilon_2 &= \\alpha\\\\\n",
    "\\frac{\\varepsilon_1}{\\varepsilon_2} &= \\frac{1}{(2c)^{2/3}}.\n",
    "\\end{align}\n",
    "$$\n",
    "We get\n",
    "$$\n",
    "\\begin{align}\n",
    "\\varepsilon_1 &= \\frac{1}{1+\\frac{1}{(2c)^{2/3}}} \\frac{1}{(2c)^{2/3}} \\alpha\\\\\n",
    "\\varepsilon_2 &= \\alpha - \\varepsilon_1.\n",
    "\\end{align}\n",
    "$$"
   ]
  },
  {
   "cell_type": "code",
   "execution_count": 3,
   "id": "e43fd098-c97e-4688-a7c9-55c65571dc98",
   "metadata": {},
   "outputs": [],
   "source": [
    "def split_budget_eps_1_2(budget, c):\n",
    "    eps_1 = (1/(1+(1/math.pow(2*c, 2/3)))) * (1/math.pow(2*c,2/3)) * budget\n",
    "    eps_2 = budget - eps_1\n",
    "    return eps_1, eps_2"
   ]
  },
  {
   "cell_type": "markdown",
   "id": "708d8ce2-1cd5-40df-ad78-8fdfe6f18981",
   "metadata": {},
   "source": [
    "Setting $\\alpha=0.5$ and $c=20$ yields:"
   ]
  },
  {
   "cell_type": "code",
   "execution_count": 4,
   "id": "f8146284-dee2-4a8c-b69b-51667a8c823f",
   "metadata": {},
   "outputs": [
    {
     "name": "stdout",
     "output_type": "stream",
     "text": [
      "epsilon_1 = 0.039382262580038824, epsilon_2 = 0.46061773741996115\n"
     ]
    }
   ],
   "source": [
    "eps_1, eps_2 = split_budget_eps_1_2(eps_1_plus_eps_2, c)\n",
    "print(f'epsilon_1 = {eps_1}, epsilon_2 = {eps_2}')"
   ]
  },
  {
   "cell_type": "markdown",
   "id": "ae6470a8-8bf6-4cca-8664-5c5916b6a44a",
   "metadata": {},
   "source": [
    "We will compute an upper bound on the expected noise added with an ODP analysis using Chebyshev's inequality. For this we need to compute the expected number of released vector entries and the variance of this count. We first compute the probability $\\mathbb{P}(\\nu_i - \\rho \\geq T_i - q_i(\\mathbf{x}))$ that a given entry is released.\n",
    "We have $\\rho \\sim \\text{Lap}(\\Delta/\\varepsilon_1)$ and $\\nu_i \\sim \\text{Lap}(2c\\Delta/\\varepsilon_2)$. Since the distribution of $\\rho$ is symmetric around 0, $\\nu_i - \\rho$ follows the same distribution as $\\nu_i + \\rho$. Letting $b_1 = \\Delta/\\varepsilon_1$ and $b_2 = 2c\\Delta/\\varepsilon_2$, we need to integrate over the convolution of the two Laplace distributions:\n",
    "$$\n",
    "\\mathbb{P}(\\nu_i - \\rho \\geq T_i - q_i(\\mathbf{x})) = \\int_{T_i - q_i(\\mathbf{x})}^{\\infty} \\int_{-\\infty}^{\\infty} \\frac{1}{2b_1} \\exp\\left(-\\frac{|\\rho|}{b_1}\\right) \\frac{1}{2b_2} \\exp\\left(-\\frac{|\\nu - \\rho|}{b_2}\\right) d\\rho d\\nu.\n",
    "$$"
   ]
  },
  {
   "cell_type": "markdown",
   "id": "19af4313-ca96-47f6-8261-6bfb802d81b8",
   "metadata": {},
   "source": [
    "We compute $b_1$ and $b_2$:"
   ]
  },
  {
   "cell_type": "code",
   "execution_count": 5,
   "id": "fb7ee668-00f4-4a9a-8a6f-2da0a7f19c18",
   "metadata": {},
   "outputs": [],
   "source": [
    "def compute_b_1(Delta, eps_1):\n",
    "    return Delta / eps_1"
   ]
  },
  {
   "cell_type": "code",
   "execution_count": 6,
   "id": "09bcec36-ca71-464c-b0e1-64517d318275",
   "metadata": {},
   "outputs": [],
   "source": [
    "def compute_b_2(c, Delta, eps_2):\n",
    "    return 2*c*Delta / eps_2"
   ]
  },
  {
   "cell_type": "code",
   "execution_count": 7,
   "id": "070a6858-4fd2-4ac0-a815-adf12554b1a9",
   "metadata": {},
   "outputs": [
    {
     "name": "stdout",
     "output_type": "stream",
     "text": [
      "b_1 = 25.392141905702925, b_2 = 86.8399037867068\n"
     ]
    }
   ],
   "source": [
    "b_1 = compute_b_1(Delta, eps_1)\n",
    "b_2 = compute_b_2(c, Delta, eps_2)\n",
    "print(f'b_1 = {b_1}, b_2 = {b_2}')"
   ]
  },
  {
   "cell_type": "markdown",
   "id": "490325d1-506b-486c-ba1f-77446381e38b",
   "metadata": {},
   "source": [
    "Now we can (numerically) compute the above integral. We consider $T_i=500$ and for the values of $q_i(\\mathbf{x})$ only the cases 0 and 1000. Let\n",
    "$$\n",
    "p_0(1) = \\mathbb{P}(\\nu_i - \\rho \\geq 500),\\quad p_0(0) = 1 - p_0(1)\n",
    "$$\n",
    "and\n",
    "$$\n",
    "p_{1000}(1) = \\mathbb{P}(\\nu_i - \\rho \\geq -500),\\quad p_{1000}(0) = 1 - p_{1000}(1)\n",
    "$$\n",
    "be the four probabilities that we are interested in.\n",
    "Due to the symmetry of the Laplace distribution we can further simplify $p_{1000}(1)$ as\n",
    "$$\n",
    "p_{1000}(1) = 1 - p_0(1).\n",
    "$$"
   ]
  },
  {
   "cell_type": "code",
   "execution_count": 8,
   "id": "ec17c41a-c8b2-43a2-a3ff-3c60dff3c470",
   "metadata": {},
   "outputs": [],
   "source": [
    "def integrand_single_all_args(b_1, b_2, rho, nu):\n",
    "    fraction = 1 / (4*b_1*b_2)\n",
    "    power = (-abs(rho)/b_1) - (abs(nu-rho)/b_2)\n",
    "    return fraction * np.exp(power)"
   ]
  },
  {
   "cell_type": "code",
   "execution_count": 9,
   "id": "4580fe2d-b9fd-4090-917f-02fe4dd87ee2",
   "metadata": {},
   "outputs": [],
   "source": [
    "integrand_single = lambda rho, nu: integrand_single_all_args(b_1, b_2, rho, nu)"
   ]
  },
  {
   "cell_type": "code",
   "execution_count": 10,
   "id": "cb50d31b-03f4-463e-b7ec-d0f268d1a0c4",
   "metadata": {},
   "outputs": [
    {
     "name": "stdout",
     "output_type": "stream",
     "text": [
      "p_0(1) = 0.0017267930924315283, error = 1.484769393467497e-08\n"
     ]
    }
   ],
   "source": [
    "p_0_1, error_0_1 = integrate.nquad(integrand_single, [[-np.inf, np.inf], [500, np.inf]])\n",
    "print(f'p_0(1) = {p_0_1}, error = {error_0_1}')"
   ]
  },
  {
   "cell_type": "code",
   "execution_count": 11,
   "id": "47ac19dd-a7da-40cc-9836-3da46fd64091",
   "metadata": {},
   "outputs": [],
   "source": [
    "p_1000_1 = 1 - p_0_1"
   ]
  },
  {
   "cell_type": "markdown",
   "id": "c8310040-b28f-483d-8c2d-45d316a9f05e",
   "metadata": {},
   "source": [
    "Let $n_0$, $n_{1000}$ be the number of small and the number of large queries, respectively, and assume w.l.o.g. the order $q_1(\\mathbf{x})=,\\dots,q_{n_0}(\\mathbf{x})=0$, and $q_{n_0+1}(\\mathbf{x})=\\dots=q_{n_0+n_{1000}}(\\mathbf{x}) = 0$. For $i=1,\\dots,n_0$ let $X_i \\sim \\text{Ber}(p_0)$ be the Bernoulli random variable that is 1 if the corresponding noisy query with $q_i(\\mathbf{x}) = 0$ exceeds the threshold, and likewise $X_i \\sim \\text{Ber}(p_{1000}),\\ i=n_0,\\dots,n_0+n_{1000},$ for the queries with $q_i(\\mathbf{x}) = 1000$. We are interested in the expectation and the variance of the sum\n",
    "$$\n",
    "S = \\sum_{k=1}^{n_0+n_{1000}} X_i.\n",
    "$$\n",
    "We can compute the expectation easily via its linearity from $p_0$ and $p_1$:\n",
    "$$\n",
    "\\mathbb{E}(S) = n_0 p_0(1) + n_{1000} p_{1000}(1).\n",
    "$$"
   ]
  },
  {
   "cell_type": "code",
   "execution_count": 12,
   "id": "a6f45b7d-8cd5-458e-b57d-83b21faf1bac",
   "metadata": {},
   "outputs": [],
   "source": [
    "def compute_expectation_S(n_0, n_1000, p_0_1, p_1000_1):\n",
    "    return n_0*p_0_1 + n_1000*p_1000_1"
   ]
  },
  {
   "cell_type": "markdown",
   "id": "a66c3ba7-28eb-44d4-a0aa-e438d44722dd",
   "metadata": {},
   "source": [
    "The variance can be computed as\n",
    "\\begin{align*}\n",
    "\\text{Var}(S) &= \\sum_i \\sum_j \\text{Cov}(X_i, X_j)\\\\\n",
    "&= n_0 \\text{Var}(X_1) + n_{1000} \\text{Var}(X_{n_0+1}) + n_0(n_0-1)\\text{Cov}(X_1,X_2) + n_{1000}(n_{1000}-1)\\text{Cov}(X_{n_0+1},X_{n_0+2}) + n_0 n_{1000} \\text{Cov}(X_1,X_{n_0+1})\n",
    "\\end{align*}\n",
    "We have\n",
    "$$\n",
    "\\text{Var}(X_1) = p_0(1) (1-p_0(1)),\\quad \\text{Var}(X_{n_0+1}) = p_{1000}(1) (1-p_{1000}(1)).\n",
    "$$\n",
    "For the mix terms we need to compute, for $(i=1,j=2),\\ (i=n_0+1, j=n_0+2),\\ (i=1, j=n_0+1)$,\n",
    "\\begin{align*}\n",
    "\\text{Cov}(X_i,X_j) &= \\mathbb{E}(X_i X_j) - \\mathbb{E}(X_i) \\mathbb{E}(X_j)\\\\\n",
    "&= \\mathbb{P}(\\nu_i - \\rho \\geq T_i - q_i(\\mathbf{x}), \\nu_j - \\rho \\geq T_j - q_j(\\mathbf{x})) - \\mathbb{E}(X_i) \\mathbb{E}(X_j)\\\\\n",
    "&= \\int_{T_i - q_i(\\mathbf{x})}^{\\infty} \\int_{T_j - q_j(\\mathbf{x})}^{\\infty} \\int_{-\\infty}^{\\infty} \\frac{1}{2b_1} \\exp\\left(-\\frac{|\\rho|}{b_1}\\right) \\frac{1}{2b_2} \\exp\\left(-\\frac{|\\nu_j - \\rho|}{b_2}\\right) \\frac{1}{2b_2} \\exp\\left(-\\frac{|\\nu_i - \\rho|}{b_2}\\right) d\\rho d\\nu_j d\\nu_i - \\mathbb{E}(X_i) \\mathbb{E}(X_j).\n",
    "\\end{align*}"
   ]
  },
  {
   "cell_type": "markdown",
   "id": "99b5e66c-b88b-437d-b097-2e2383027e9a",
   "metadata": {},
   "source": [
    "Let\n",
    "$$\n",
    "g([a_1, a_2], [b_1, b_2]) = \\int_{a_1}^{a_2} \\int_{b_1}^{b_2} \\int_{-\\infty}^{\\infty} \\frac{1}{2b_1} \\exp\\left(-\\frac{|\\rho|}{b_1}\\right) \\frac{1}{2b_2} \\exp\\left(-\\frac{|\\nu_j - \\rho|}{b_2}\\right) \\frac{1}{2b_2} \\exp\\left(-\\frac{|\\nu_i - \\rho|}{b_2}\\right) d\\rho d\\nu_j d\\nu_i.\n",
    "$$\n",
    "Note that $g$ is invariant w.r.t. swapping $[a_1, a_2]$ and $[b_1, b_2]$.\n",
    "We have to compute $\\text{Cov}(X_1,X_2)$, $\\text{Cov}(X_{n_0+1},X_{n_0+2})$ and $\\text{Cov}(X_1,X_{n_0+1})$, and thus the values $g([500,\\infty], [500, \\infty])$, $g([-500,\\infty], [-500, \\infty])$ and $g([500,\\infty], [-500, \\infty])$. To save computation and avoid the numerical problems that scipy has with computing $g([-500,\\infty], [-500, \\infty])$ directly, we rewrite $g([500,\\infty], [-500, \\infty])$ as\n",
    "$$\n",
    "g([500,\\infty], [-500, \\infty]) = g([500,\\infty], [500, \\infty]) + g([500,\\infty], [-500, 500])\n",
    "$$\n",
    "and $g([-500,\\infty], [-500, \\infty])$ as\n",
    "\\begin{align*}\n",
    "g([-500,\\infty], [-500, \\infty]) &= 1 - (g([-\\infty,-500], [-500, \\infty]) + g([-500, \\infty], [-\\infty,-500]) + g([-\\infty,-500], [-\\infty,-500]))\\\\\n",
    "&= 1 - (2g([-\\infty,-500], [-500, \\infty]) + g([-\\infty,-500], [-\\infty,-500]))\\\\\n",
    "&= 1 - (2g([-\\infty,-500], [-500, \\infty]) + g([500,\\infty], [500, \\infty]))\\\\\n",
    "&= 1 - (2g([500,\\infty], [-500, \\infty]) + g([500,\\infty], [500, \\infty]))\\\\\n",
    "&= 1 - (2(g([500,\\infty], [500, \\infty]) + g([500,\\infty], [-500, 500])) + g([500,\\infty], [500, \\infty]))\\\\\n",
    "&= 1 - (3g([500,\\infty], [500, \\infty]) + 2g([500,\\infty], [-500, 500])),\n",
    "\\end{align*}\n",
    "where we exploit the symmetry of the joint distribution $(\\nu_i-\\rho, \\nu_j-\\rho)$.\n",
    "We hence only have to compute the values $g([500,\\infty], [500, \\infty])$ and $g([500,\\infty], [-500, 500])$."
   ]
  },
  {
   "cell_type": "code",
   "execution_count": 13,
   "id": "97f007ab-5b92-4dd9-a1cc-a9013c9b165e",
   "metadata": {},
   "outputs": [],
   "source": [
    "def integrand_cov_i_j_all_args(b_1, b_2, rho, nu_j, nu_i):\n",
    "    fraction = 1 / (8*b_1*b_2*b_2)\n",
    "    power = (-abs(rho)/b_1) - (abs(nu_j-rho)/b_2) - (abs(nu_i-rho)/b_2)\n",
    "    return fraction * np.exp(power)\n",
    "                               \n",
    "integrand_cov_i_j = lambda rho, nu_j, nu_i: integrand_cov_i_j_all_args(b_1, b_2, rho, nu_j, nu_i)"
   ]
  },
  {
   "cell_type": "code",
   "execution_count": 14,
   "id": "890a8a2b-0162-4918-9a12-ce4f8880deee",
   "metadata": {},
   "outputs": [],
   "source": [
    "def compute_variance_X_i(p):\n",
    "    return p*(1-p)"
   ]
  },
  {
   "cell_type": "code",
   "execution_count": 15,
   "id": "0ce34a3d-1494-4cae-8fe7-153514c38565",
   "metadata": {},
   "outputs": [],
   "source": [
    "def compute_integrals_for_covariance():\n",
    "    # The order of the limits is reversed as compared to how g is defined, because nquad takes the innermost limits first.\n",
    "    # But it also does not really matter, since we can change the order of integration.\n",
    "    integration_limits_list = [[[500, np.inf], [500, np.inf]], [[-500, 500], [500, np.inf]]]\n",
    "    integrals = []\n",
    "    errors = []\n",
    "    for integration_limits in integration_limits_list:\n",
    "        integration_limits.insert(0, [-np.inf, np.inf]) # integration limits for rho\n",
    "        curr_integral, error = integrate.nquad(integrand_cov_i_j, integration_limits)\n",
    "        integrals.append(curr_integral)\n",
    "        errors.append(error)\n",
    "    print('Integral errors:')\n",
    "    print(f'Integral 1: {errors[0]}, Integral 2: {errors[1]}')\n",
    "    return integrals"
   ]
  },
  {
   "cell_type": "code",
   "execution_count": 16,
   "id": "6f9ab0d5-7f74-4fcb-a7cb-6d3ee0d65f06",
   "metadata": {},
   "outputs": [],
   "source": [
    "def compute_variance_S(n_0, n_1000, p_0_1, p_1000_1, integrals):\n",
    "    variances = n_0*compute_variance_X_i(p_0_1) + n_1000*compute_variance_X_i(p_1000_1)\n",
    "        \n",
    "    covariances = 0\n",
    "    covariances += n_0*(n_0-1) * (integrals[0] - p_0_1*p_0_1)\n",
    "    covariances += n_1000*(n_1000-1) * ((1-(3*integrals[0] + 2*integrals[1])) - p_1000_1*p_1000_1)\n",
    "    covariances += n_0*n_1000 * (integrals[0] + integrals[1] - p_0_1*p_1000_1)\n",
    "    \n",
    "    return variances + covariances"
   ]
  },
  {
   "cell_type": "code",
   "execution_count": 17,
   "id": "482b32a5-95c6-4705-9030-e13c8b796fa0",
   "metadata": {},
   "outputs": [
    {
     "name": "stdout",
     "output_type": "stream",
     "text": [
      "Integral errors:\n",
      "Integral 1: 1.4892516520505813e-08, Integral 2: 7.326226175516681e-07\n"
     ]
    }
   ],
   "source": [
    "with warnings.catch_warnings():\n",
    "    warnings.filterwarnings(\"ignore\", message=\"The maximum number of subdivisions\")\n",
    "    integrals_for_covariance = compute_integrals_for_covariance() # This may take a couple of minutes"
   ]
  },
  {
   "cell_type": "markdown",
   "id": "a7ec86ed-3076-454d-84ff-7940cba4fe37",
   "metadata": {},
   "source": [
    "We want to find an upper bound for the expected variance of the noise that needs to be added to the released vector entries according to the ODP analysis. This variance depends on the value of $S$ and it is a monotonically increasing function in $S$. Call this function $f$. We hence want to find an upper bound on\n",
    "$$\n",
    "\\mathbb{E}(f(S)) = \\sum_{i=0}^{c-1} f(i) \\mathbb{P}(S=i) + f(c) \\mathbb{P}(S\\geq c).\n",
    "$$"
   ]
  },
  {
   "cell_type": "markdown",
   "id": "eca2184c-7466-4861-a6b8-d1596ae51b21",
   "metadata": {},
   "source": [
    "Let $\\mu$ be the expectation and $\\sigma^2$ the variance of $S$. Chebyshev's inequality states that, for any $r>0$,\n",
    "$$\n",
    "\\mathbb{P}(\\lvert S-\\mu\\rvert\\geq r)\\leq \\frac{\\sigma^2}{r^2}.\n",
    "$$\n",
    "Note that we can exchange the larger or equal inside the probability by a strictly smaller for all practical purposes, which we will use below.\n",
    "\n",
    "Let $t = \\lceil\\mu\\rceil-\\mu$. Then the inequality implies, for $k=0,1,\\dots$,\n",
    "$$\n",
    "\\mathbb{P}(S\\geq \\lceil\\mu\\rceil + k)\\leq \\frac{\\sigma^2}{(t+k)^2}\n",
    "$$\n",
    "and\n",
    "$$\n",
    "\\mathbb{P}(S< \\lceil\\mu\\rceil + k)\\geq 1 - \\frac{\\sigma^2}{(t+k)^2}.\n",
    "$$\n",
    "Further,\n",
    "\\begin{equation}\n",
    "f(\\lceil\\mu\\rceil + k) \\mathbb{P}(S\\geq\\lceil\\mu\\rceil + k) + f(\\lceil\\mu\\rceil + k+1) \\mathbb{P}(S\\geq\\lceil\\mu\\rceil + k+1) \\leq f(\\lceil\\mu\\rceil + k) \\left(\\frac{\\sigma^2}{(t+k)^2} - \\frac{\\sigma^2}{(t+k+1)^2}\\right) + f(\\lceil\\mu\\rceil + k+1) \\frac{\\sigma^2}{(t+k+1)^2},\\label{eq:estimate_sum_of_two}\\tag{1}\n",
    "\\end{equation}\n",
    "since due to the monotonicity of $f$ the value of the sum is maximized if we shift the maximal amount of probability mass to $\\lceil\\mu\\rceil + k + 1$. The same bound holds when replacing $\\mathbb{P}(S\\geq\\lceil\\mu\\rceil + k)$ by $\\mathbb{P}(S=\\lceil\\mu\\rceil + k)$, and when replacing both $\\mathbb{P}(S\\geq\\lceil\\mu\\rceil + k)$ by $\\mathbb{P}(S=\\lceil\\mu\\rceil + k)$ and $\\mathbb{P}(S\\geq\\lceil\\mu\\rceil + k+1)$ by $\\mathbb{P}(S=\\lceil\\mu\\rceil + k+1)$.\n",
    "\n",
    "Let $K=c-\\lceil\\mu\\rceil$. The repeated application of $\\eqref{eq:estimate_sum_of_two}$ yields\n",
    "\\begin{align*}\n",
    "\\mathbb{E}(f(S)) &= \\sum_{i=0}^{c-1} f(i) \\mathbb{P}(S=i) + f(c) \\mathbb{P}(S\\geq c)\\\\\n",
    "&\\leq f(\\lceil\\mu\\rceil - 1) \\left(1 - \\frac{\\sigma^2}{t^2}\\right) + \\sum_{k=0}^{K-1} f(\\lceil\\mu\\rceil + k) \\left(\\frac{\\sigma^2}{(t+k)^2} - \\frac{\\sigma^2}{(t+k+1)^2}\\right) + f(c) \\frac{\\sigma^2}{(t+K)^2}.\\label{eq:final_E_S_bound}\\tag{2}\n",
    "\\end{align*}\n",
    "Note the different summation limits in the two lines. We bound all summands with $i\\geq\\lceil\\mu\\rceil$ in the first sum using the upper bound $\\eqref{eq:estimate_sum_of_two}$ $K$ times. We put the remaining probability mass\n",
    "$$\n",
    "1 - \\frac{\\sigma^2}{t^2} = 1 - \\left(\\sum_{k=0}^{K-1} \\left(\\frac{\\sigma^2}{(t+k)^2} - \\frac{\\sigma^2}{(t+k+1)^2}\\right) + \\frac{\\sigma^2}{(t+K)^2}\\right)\n",
    "$$\n",
    "towards the summands with $i<\\lceil\\mu\\rceil$, and use the fact that $f(i)\\leq f(\\lceil\\mu\\rceil - 1)$ for $i=0,\\dots,\\lceil\\mu\\rceil - 1$.\n",
    "We assume that $\\mu$ is not an integer, so that $t\\neq 0$ and we do not divide by 0. Otherwise we need to start the summation at $k=1$ instead of $k=0$ and have $f(\\mu) \\left(1 - \\frac{\\sigma^2}{(0+1)^2}\\right)$ as the first summand in Eq. $\\eqref{eq:final_E_S_bound}$ instead of $f(\\lceil\\mu\\rceil - 1) \\left(1 - \\frac{\\sigma^2}{t^2}\\right)$.\n",
    "\n",
    "If $\\frac{\\sigma^2}{t^2}>1$, we get an even better bound, since we only need to sum up probability bounds until we have reached a probability of 1. Let $k^*$ be the smallest non-negative integer such that $\\frac{\\sigma^2}{(t+k)^2}<1$. Then\n",
    "$$\n",
    "\\mathbb{E}(f(S)) \\leq f(\\lceil\\mu\\rceil + k^* - 1) \\left(1 - \\frac{\\sigma^2}{(t+k^*)^2}\\right) + \\sum_{k=k^*}^{K-1} f(\\lceil\\mu\\rceil + k) \\left(\\frac{\\sigma^2}{(t+k)^2} - \\frac{\\sigma^2}{(t+k+1)^2}\\right) + f(c) \\frac{\\sigma^2}{(t+K)^2}.\n",
    "$$"
   ]
  },
  {
   "cell_type": "markdown",
   "id": "d9a23a22-1ed1-4daa-a2e3-636b598e9504",
   "metadata": {},
   "source": [
    "We already have functions that compute the expectation and variance of $S$. What remains is a function for computing $f$.\n",
    "For a given per-entry budget $\\varepsilon$, the standard deviation of the added Laplace noise is\n",
    "$$\n",
    "\\sqrt{2}\\frac{\\Delta}{\\varepsilon}.\n",
    "$$\n",
    "In the non-ODP case we have a budget of\n",
    "$$\n",
    "\\varepsilon = \\frac{\\varepsilon_3}{c}\n",
    "$$ per entry.\n",
    "\n",
    "Let $c'$ be the number of released entries. Then in the ODP case we have a budget of\n",
    "$$\n",
    "\\varepsilon = \\frac{1}{c'}\\left(\\varepsilon_3 + \\frac{c-c'}{c}\\varepsilon_2\\right)\n",
    "$$\n",
    "per entry (see paper)."
   ]
  },
  {
   "cell_type": "code",
   "execution_count": 18,
   "id": "d2371cd2-593c-4cf2-92d4-1d7db8c56a74",
   "metadata": {},
   "outputs": [],
   "source": [
    "def std_dev_laplace(Delta, eps):\n",
    "    return math.sqrt(2) * Delta / eps"
   ]
  },
  {
   "cell_type": "code",
   "execution_count": 19,
   "id": "d6439724-284f-4145-9981-1413f304639e",
   "metadata": {},
   "outputs": [],
   "source": [
    "def non_odp_eps_per_entry(eps_3, c):\n",
    "    return eps_3 / c"
   ]
  },
  {
   "cell_type": "code",
   "execution_count": 20,
   "id": "d5d315ed-9d69-4be1-a63f-ce8682c9b547",
   "metadata": {},
   "outputs": [],
   "source": [
    "def odp_eps_per_entry(eps_2, eps_3, c, c_prime):\n",
    "    eps_per_entry = eps_3 + ((c-c_prime)/c)*eps_2\n",
    "    eps_per_entry /= c_prime\n",
    "    return eps_per_entry"
   ]
  },
  {
   "cell_type": "markdown",
   "id": "86eff836-b42b-46e5-b530-af38234a5e9c",
   "metadata": {},
   "source": [
    "Now the function $f$:"
   ]
  },
  {
   "cell_type": "code",
   "execution_count": 21,
   "id": "5663fe65-e2f4-42f3-9f4e-02cc6d70e93f",
   "metadata": {},
   "outputs": [],
   "source": [
    "def compute_variance_laplace_odp(Delta, eps_2, eps_3, c, c_prime):\n",
    "    if c_prime == 0:\n",
    "        return 0\n",
    "    return std_dev_laplace(Delta, odp_eps_per_entry(eps_2, eps_3, c, c_prime))"
   ]
  },
  {
   "cell_type": "markdown",
   "id": "1eae2e85-3dfc-425e-a992-fb0e643bc0a5",
   "metadata": {},
   "source": [
    "And the upper bound for $\\mathbb{E}(f(S))$:"
   ]
  },
  {
   "cell_type": "code",
   "execution_count": 22,
   "id": "66eda760-c94b-42cb-8e49-dfbe282b5ad1",
   "metadata": {},
   "outputs": [],
   "source": [
    "def compute_upper_bound_expected_variance_laplace(Delta, eps_2, eps_3, c, n_0, n_1000, p_0_1, p_1000_1, integrals):\n",
    "    mu = compute_expectation_S(n_0, n_1000, p_0_1, p_1000_1)\n",
    "    mu_int = math.ceil(mu)\n",
    "    t = mu_int - mu\n",
    "    sigma_2 = compute_variance_S(n_0, n_1000, p_0_1, p_1000_1, integrals)\n",
    "    f = lambda c_prime: compute_variance_laplace_odp(Delta, eps_2, eps_3, c, c_prime)\n",
    "    \n",
    "    bound = 0\n",
    "    K = c - mu_int\n",
    "    k = 0\n",
    "    for k in reversed(range(K)):\n",
    "        if sigma_2/math.pow(t, 2) >= 1:\n",
    "            k += 1 # set k = k^*\n",
    "            break\n",
    "        fraction_1 = sigma_2 / math.pow(t+k, 2)\n",
    "        fraction_2 = sigma_2 / math.pow(t+k+1, 2)\n",
    "        bound += f(mu_int + k) * (fraction_1 - fraction_2)\n",
    "    bound += f(mu_int+k-1) * (1 - (sigma_2/math.pow(t, 2) + k))\n",
    "    bound += f(c) * (sigma_2 / math.pow(t+K, 2))\n",
    "    \n",
    "    worst_case_bound = compute_variance_laplace_odp(Delta, eps_2, eps_3, c, c) # We never release more than c entries\n",
    "    return min(bound, worst_case_bound)"
   ]
  },
  {
   "cell_type": "code",
   "execution_count": 23,
   "id": "b138a65c-3030-47ed-b9a6-9dcc93f3e4df",
   "metadata": {},
   "outputs": [],
   "source": [
    "non_odp_std_dev = std_dev_laplace(Delta, non_odp_eps_per_entry(eps_3, c))\n",
    "odp_std_dev_list = [compute_upper_bound_expected_variance_laplace(Delta, eps_2, eps_3, c, 100-num_large_entries, num_large_entries, p_0_1, p_1000_1, integrals_for_covariance) for num_large_entries in range(21)]"
   ]
  },
  {
   "cell_type": "code",
   "execution_count": 24,
   "id": "4fc4b7a8-dd15-4b3d-a316-1fdb5dbbf475",
   "metadata": {},
   "outputs": [
    {
     "data": {
      "image/png": "[encoded data removed]",
      "text/plain": [
       "<Figure size 432x288 with 1 Axes>"
      ]
     },
     "metadata": {
      "needs_background": "light"
     },
     "output_type": "display_data"
    }
   ],
   "source": [
    "plt.plot(range(0,21), np.ones(21)*non_odp_std_dev, label='without ODP (upper bound)')\n",
    "plt.plot(range(0,21), odp_std_dev_list, label='with ODP')\n",
    "plt.xlabel('Number of large entries')\n",
    "plt.ylabel('Expected std deviation of noise')\n",
    "plt.legend()\n",
    "plt.tight_layout()\n",
    "plt.savefig('svt.pdf')"
   ]
  },
  {
   "cell_type": "markdown",
   "id": "ac3a5156-c641-4397-a2b9-39a4389c7cb9",
   "metadata": {},
   "source": [
    "# ERM"
   ]
  },
  {
   "cell_type": "markdown",
   "id": "463e8e15-cc03-41b7-895f-778fb7996458",
   "metadata": {},
   "source": [
    "In this section we investigate the ODP variant of output perturbation for releasing a noisy logistic regression model, but only its error lies below a given threshold. We compute the amount of noise that needs to be added to the error before the comparison with the threshold. For more details see Sec. 6.1 of the paper."
   ]
  },
  {
   "cell_type": "markdown",
   "id": "ba9ea920-83ae-4e18-bc2d-2f4755633975",
   "metadata": {},
   "source": [
    "We start by computing $a$ from line 2 of Alg. 5."
   ]
  },
  {
   "cell_type": "code",
   "execution_count": 25,
   "id": "a19a670b-1531-41e4-a258-0897d78bde37",
   "metadata": {},
   "outputs": [],
   "source": [
    "def compute_a(n_train, n_test, Lambda):\n",
    "    return max(2/n_test, 2*(np.exp(2/(n_train*Lambda)) - 1))"
   ]
  },
  {
   "cell_type": "markdown",
   "id": "1199131a-9208-4a36-b153-cc5a53d58d68",
   "metadata": {},
   "source": [
    "We want to plot the 95th percentile of the noise added to the model error."
   ]
  },
  {
   "cell_type": "code",
   "execution_count": 26,
   "id": "6255e828-e985-45b5-ab0a-60fa7e9e6c16",
   "metadata": {},
   "outputs": [],
   "source": [
    "def score_noise_quantile(a, epsilon_2, F):\n",
    "    '''\n",
    "    Computes the F-quantile of the noise added to the model error.\n",
    "    F must be >= 1/2.\n",
    "    '''\n",
    "    \n",
    "    laplace_param = a/epsilon_2\n",
    "    return -laplace_param * np.log(2-2*F)"
   ]
  },
  {
   "cell_type": "markdown",
   "id": "a6aa7aa7-d606-42c6-a054-99311d4866c0",
   "metadata": {},
   "source": [
    "We define the different settings that we consider. In all settings 70% of the data is used for training and 30% is used for testing."
   ]
  },
  {
   "cell_type": "code",
   "execution_count": 27,
   "id": "188ad418-6143-4577-a9e2-426561120948",
   "metadata": {},
   "outputs": [],
   "source": [
    "epsilons_2_s = [0.1, 0.2, 0.5]\n",
    "dataset_sizes = range(1000, 5000)\n",
    "fraction_test = 0.3 # fraction of test records\n",
    "Lambda = 1\n",
    "quantile = 0.95"
   ]
  },
  {
   "cell_type": "code",
   "execution_count": 28,
   "id": "8467d162-7cfd-4467-b621-fb6db3b34551",
   "metadata": {},
   "outputs": [
    {
     "data": {
      "image/png": "[encoded data removed]",
      "text/plain": [
       "<Figure size 432x288 with 1 Axes>"
      ]
     },
     "metadata": {
      "needs_background": "light"
     },
     "output_type": "display_data"
    }
   ],
   "source": [
    "for epsilon_2 in epsilons_2_s:\n",
    "    percentiles = [score_noise_quantile(compute_a((1-fraction_test)*size, fraction_test*size, Lambda), epsilon_2, quantile)\n",
    "                   for size in dataset_sizes]\n",
    "    plt.plot(dataset_sizes, percentiles, label=f'$\\\\varepsilon_2={epsilon_2}$')\n",
    "\n",
    "plt.ylabel('95th percentile of error noise')\n",
    "plt.xlabel('Total number of database records')\n",
    "plt.legend()\n",
    "plt.tight_layout()\n",
    "plt.savefig('erm.pdf')"
   ]
  }
 ],
 "metadata": {
  "kernelspec": {
   "display_name": "Python 3 (ipykernel)",
   "language": "python",
   "name": "python3"
  },
  "language_info": {
   "codemirror_mode": {
    "name": "ipython",
    "version": 3
   },
   "file_extension": ".py",
   "mimetype": "text/x-python",
   "name": "python",
   "nbconvert_exporter": "python",
   "pygments_lexer": "ipython3",
   "version": "3.9.7"
  }
 },
 "nbformat": 4,
 "nbformat_minor": 5
}
